{
  "nbformat": 4,
  "nbformat_minor": 0,
  "metadata": {
    "colab": {
      "provenance": [],
      "authorship_tag": "ABX9TyNghAdrngsCcl37kv9CZouN",
      "include_colab_link": true
    },
    "kernelspec": {
      "name": "python3",
      "display_name": "Python 3"
    },
    "language_info": {
      "name": "python"
    }
  },
  "cells": [
    {
      "cell_type": "markdown",
      "metadata": {
        "id": "view-in-github",
        "colab_type": "text"
      },
      "source": [
        "<a href=\"https://colab.research.google.com/github/ramirezbarbosajuancarlos64-commits/primer_notebook/blob/main/Untitled4.ipynb\" target=\"_parent\"><img src=\"https://colab.research.google.com/assets/colab-badge.svg\" alt=\"Open In Colab\"/></a>"
      ]
    },
    {
      "cell_type": "code",
      "source": [
        "distancia = 120\n",
        "tiempo = 2\n",
        "velocidad = distancia / tiempo\n",
        "print(f\"la velcidad es: {velocidad}\")"
      ],
      "metadata": {
        "colab": {
          "base_uri": "https://localhost:8080/"
        },
        "id": "VDCfc7iAP9es",
        "outputId": "14cff04b-3ad4-4e1b-9106-a3c165d39ba9"
      },
      "execution_count": 28,
      "outputs": [
        {
          "output_type": "stream",
          "name": "stdout",
          "text": [
            "la velcidad es: 60.0\n"
          ]
        }
      ]
    },
    {
      "cell_type": "code",
      "source": [
        "def mcd(a,  b):\n",
        "  while b != 0:\n",
        "    r = a % b # residuo de la divison\n",
        "    a = b\n",
        "    b = r\n",
        "    return a"
      ],
      "metadata": {
        "id": "NjF87zp3I9hP"
      },
      "execution_count": 30,
      "outputs": []
    },
    {
      "cell_type": "code",
      "source": [
        "num1 = 48\n",
        "num2 = 18\n",
        "print(f\"el MCD de {num1} y {num2} es: {mcd(num1, num2)}\")"
      ],
      "metadata": {
        "colab": {
          "base_uri": "https://localhost:8080/"
        },
        "id": "EMGKBYpuRjB0",
        "outputId": "05ed149b-3ca6-4a4d-e4f5-a12abf17c3dc"
      },
      "execution_count": 35,
      "outputs": [
        {
          "output_type": "stream",
          "name": "stdout",
          "text": [
            "el MCD de 48 y 18 es: 18\n"
          ]
        }
      ]
    }
  ]
}